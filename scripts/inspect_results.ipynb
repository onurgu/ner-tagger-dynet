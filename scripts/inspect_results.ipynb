{
 "cells": [
  {
   "cell_type": "code",
   "execution_count": 2,
   "metadata": {
    "collapsed": true
   },
   "outputs": [
    {
     "ename": "ImportError",
     "evalue": "No module named pymongo",
     "traceback": [
      "\u001b[0;31m\u001b[0m",
      "\u001b[0;31mImportError\u001b[0mTraceback (most recent call last)",
      "\u001b[0;32m<ipython-input-2-b4b8a0a73d36>\u001b[0m in \u001b[0;36m<module>\u001b[0;34m()\u001b[0m\n\u001b[0;32m----> 1\u001b[0;31m \u001b[0;32mimport\u001b[0m \u001b[0mpymongo\u001b[0m\u001b[0;34m\u001b[0m\u001b[0m\n\u001b[0m\u001b[1;32m      2\u001b[0m \u001b[0;32mfrom\u001b[0m \u001b[0mIPython\u001b[0m\u001b[0;34m.\u001b[0m\u001b[0mdisplay\u001b[0m \u001b[0;32mimport\u001b[0m \u001b[0mdisplay\u001b[0m\u001b[0;34m\u001b[0m\u001b[0m\n",
      "\u001b[0;31mImportError\u001b[0m: No module named pymongo"
     ],
     "output_type": "error"
    }
   ],
   "source": [
    "import pymongo\n",
    "from IPython.display import display"
   ]
  },
  {
   "cell_type": "code",
   "execution_count": 4,
   "metadata": {},
   "outputs": [
    {
     "ename": "NameError",
     "evalue": "name 'pymongo' is not defined",
     "traceback": [
      "\u001b[0;31m\u001b[0m",
      "\u001b[0;31mNameError\u001b[0mTraceback (most recent call last)",
      "\u001b[0;32m<ipython-input-4-953460a3945d>\u001b[0m in \u001b[0;36m<module>\u001b[0;34m()\u001b[0m\n\u001b[0;32m----> 1\u001b[0;31m \u001b[0mclient\u001b[0m \u001b[0;34m=\u001b[0m \u001b[0mpymongo\u001b[0m\u001b[0;34m.\u001b[0m\u001b[0mMongoClient\u001b[0m\u001b[0;34m(\u001b[0m\u001b[0;34m\"localhost\"\u001b[0m\u001b[0;34m,\u001b[0m \u001b[0;36m27017\u001b[0m\u001b[0;34m)\u001b[0m\u001b[0;34m\u001b[0m\u001b[0m\n\u001b[0m",
      "\u001b[0;31mNameError\u001b[0m: name 'pymongo' is not defined"
     ],
     "output_type": "error"
    }
   ],
   "source": [
    "client = pymongo.MongoClient(\"localhost\", 27017)"
   ]
  },
  {
   "cell_type": "code",
   "execution_count": 4,
   "metadata": {},
   "outputs": [],
   "source": [
    "db = client.joint_ner_and_md"
   ]
  },
  {
   "cell_type": "code",
   "execution_count": null,
   "metadata": {},
   "outputs": [
    {
     "data": {
      "text/html": [
       "<div>\n",
       "<table border=\"1\" class=\"dataframe\">\n",
       "  <thead>\n",
       "    <tr style=\"text-align: right;\">\n",
       "      <th></th>\n",
       "      <th>char_dim</th>\n",
       "      <th>morpho_tag_dim</th>\n",
       "      <th>word_dim</th>\n",
       "      <th>morpho_tag_type</th>\n",
       "      <th>host</th>\n",
       "      <th>best</th>\n",
       "    </tr>\n",
       "  </thead>\n",
       "  <tbody>\n",
       "    <tr>\n",
       "      <th>0</th>\n",
       "      <td>0</td>\n",
       "      <td>10</td>\n",
       "      <td>10</td>\n",
       "      <td>with_root</td>\n",
       "      <td>localhost</td>\n",
       "      <td>59.61</td>\n",
       "    </tr>\n",
       "  </tbody>\n",
       "</table>\n",
       "</div>"
      ],
      "text/plain": [
       "<div>\n",
       "<table border=\"1\" class=\"dataframe\">\n",
       "  <thead>\n",
       "    <tr style=\"text-align: right;\">\n",
       "      <th></th>\n",
       "      <th>char_dim</th>\n",
       "      <th>morpho_tag_dim</th>\n",
       "      <th>word_dim</th>\n",
       "      <th>morpho_tag_type</th>\n",
       "      <th>host</th>\n",
       "      <th>best</th>\n",
       "    </tr>\n",
       "  </thead>\n",
       "  <tbody>\n",
       "    <tr>\n",
       "      <th>0</th>\n",
       "      <td>0</td>\n",
       "      <td>10</td>\n",
       "      <td>10</td>\n",
       "      <td>with_root</td>\n",
       "      <td>localhost</td>\n",
       "      <td>59.61</td>\n",
       "    </tr>\n",
       "  </tbody>\n",
       "</table>\n",
       "</div>"
      ]
     },
     "execution_count": 14,
     "metadata": {},
     "output_type": "execute_result"
    }
   ],
   "source": [
    "print(\"section1-all-20171013-01\")\n",
    "runs = db.runs.find({\"config.experiment_name\": \"section1-all-20171013-01\"})\n",
    "configs = []\n",
    "for run_idx, run in enumerate(runs):\n",
    "    \n",
    "    dict_to_report = dict(run[\"config\"])\n",
    "    initial_keys = dict_to_report.keys()\n",
    "    \n",
    "    print initial_keys\n",
    "    \n",
    "    result_designation_labels = [\"MORPH\", \"NER\", \"YURET\"]\n",
    "    \n",
    "    for result_designation_label in result_designation_labels:\n",
    "        \n",
    "        print \"result_designation_label: \", result_designation_label\n",
    "    \n",
    "        if result_designation_label == \"YURET\":\n",
    "            best_performances = run[\"info\"][result_designation_label + \"_test_f_score\"]\n",
    "        else:\n",
    "            best_performances = run[\"info\"][result_designation_label + \"_dev_f_score\"]\n",
    "        print best_performances\n",
    "        best_dev_result_for_this_run = 0\n",
    "        best_test_result_for_this_run = 0\n",
    "        epoch_id_of_the_best_dev_result = -1\n",
    "        # display(run[\"config\"])\n",
    "        for epoch in sorted([int(k) for k in best_performances.keys()]):\n",
    "            # if result_designation_label != \"NER\":\n",
    "            #     corrected_epoch = epoch + 1\n",
    "            epoch_max = max(best_performances[str(epoch)])\n",
    "            if epoch_max > best_dev_result_for_this_run:\n",
    "                epoch_id_of_the_best_dev_result = epoch\n",
    "                best_dev_result_for_this_run = epoch_max\n",
    "                best_test_result_for_this_run = \\\n",
    "                    max(run[\"info\"][result_designation_label + \"_test_f_score\"][str(epoch)])\n",
    "                \n",
    "            # print \"run_idx: %d, epoch: %d, epoch_best_performance: %.2lf, best_for_this_run: %.2lf\" % (run_idx, epoch, epoch_max, best_for_this_run)\n",
    "    \n",
    "        dict_to_report[result_designation_label + \"_best_dev\"] = best_dev_result_for_this_run\n",
    "        dict_to_report[result_designation_label + \"_best_test\"] = best_test_result_for_this_run\n",
    "        \n",
    "        for x in result_designation_labels:\n",
    "            # if x != result_designation_label:\n",
    "            print \"x: \", x\n",
    "            print \"epoch_id_of_the_best_dev_result: \", epoch_id_of_the_best_dev_result\n",
    "            dict_to_report[result_designation_label + \"_to_\" + x + \"_test\"] = \\\n",
    "                max(run[\"info\"][x + \"_test_f_score\"][str(epoch_id_of_the_best_dev_result)]) \\\n",
    "                    if str(epoch_id_of_the_best_dev_result) in run[\"info\"][x + \"_test_f_score\"].keys() else -1\n",
    "            print dict_to_report[result_designation_label + \"_to_\" + x + \"_test\"]\n",
    "        \n",
    "    configs.append({key: dict_to_report[key] for key in [\"host\", \n",
    "                                                         \"integration_mode\", \n",
    "                                                         \"train_with_yuret\", \n",
    "                                                         \"use_golden_morpho_analysis_in_word_representation\"] + \n",
    "                    [x for x in dict_to_report.keys() if x not in initial_keys]})\n",
    "\n",
    "import pandas\n",
    "df = pandas.DataFrame.from_dict(configs)\n",
    "print configs\n",
    "cols = df.columns.tolist()\n",
    "\n",
    "# display(df[[\"host\"] + \n",
    "#                     [x for x in dict_to_report.keys() if x not in initial_keys]])\n",
    "\n",
    "display(df)"
   ]
  },
  {
   "cell_type": "code",
   "execution_count": null,
   "metadata": {},
   "outputs": [],
   "source": [
    ""
   ]
  }
 ],
 "metadata": {
  "kernelspec": {
   "display_name": "Python 2",
   "language": "python",
   "name": "python2"
  },
  "language_info": {
   "codemirror_mode": {
    "name": "ipython",
    "version": 2.0
   },
   "file_extension": ".py",
   "mimetype": "text/x-python",
   "name": "python",
   "nbconvert_exporter": "python",
   "pygments_lexer": "ipython2",
   "version": "2.7.6"
  }
 },
 "nbformat": 4,
 "nbformat_minor": 0
}